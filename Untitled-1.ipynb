{
 "metadata": {
  "language_info": {
   "codemirror_mode": {
    "name": "ipython",
    "version": 3
   },
   "file_extension": ".py",
   "mimetype": "text/x-python",
   "name": "python",
   "nbconvert_exporter": "python",
   "pygments_lexer": "ipython3",
   "version": 3
  },
  "orig_nbformat": 2
 },
 "nbformat": 4,
 "nbformat_minor": 2,
 "cells": [
  {
   "cell_type": "code",
   "execution_count": null,
   "metadata": {},
   "outputs": [],
   "source": [
    "# Import Splinter, BeautifulSoup, and Pandas\n",
    "from splinter import Browser\n",
    "from bs4 import BeautifulSoup as soup\n",
    "import pandas as pd\n",
    "from webdriver_manager.chrome import ChromeDriverManager\n",
    "import datetime as dt\n",
    "import numpy as np"
   ]
  },
  {
   "cell_type": "code",
   "execution_count": null,
   "metadata": {},
   "outputs": [],
   "source": [
    "executable_path = {'executable_path': ChromeDriverManager().install()}\n",
    "browser = Browser('chrome', **executable_path, headless=True)"
   ]
  },
  {
   "cell_type": "code",
   "execution_count": null,
   "metadata": {},
   "outputs": [],
   "source": [
    "def hemisphere_data(browser):\n",
    "    # 1. Use browser to visit the URL \n",
    "    url = 'https://marshemispheres.com/'\n",
    "    \n",
    "    browser.visit(url)\n",
    "\n",
    "    # 2. Create a list to hold the images and titles.\n",
    "    hemisphere_image_urls = []\n",
    "\n",
    "    try:\n",
    "        # 3. Write code to retrieve the image urls and titles for each hemisphere.\n",
    "        for i in np.arange(0,4):\n",
    "            scraped_dict = {}\n",
    "            b = int(i)\n",
    "            browser.visit(url)\n",
    "            img_thumb = browser.find_by_css('.thumb')[b]\n",
    "            img_thumb.click()\n",
    "            img_sample = browser.find_by_css('.downloads').find_by_text('Sample')\n",
    "            img_sample.click()\n",
    "            html = browser.html\n",
    "            img_soup = soup(html, 'html.parser')\n",
    "            img_url_rel = img_soup.find('img').get('src')\n",
    "            img_title = img_soup.find('h2', class_='title').get_text()\n",
    "            img_url = f'{url}{img_url_rel}'\n",
    "            scraped_dict['img_url'] = img_url\n",
    "            scraped_dict['title'] = img_title\n",
    "            hemisphere_image_urls.append(scraped_dict)\n",
    "    except BaseException:\n",
    "        return None\n",
    "\n",
    "    # 4. return the list that holds the dictionary of each image url and title.\n",
    "    return hemisphere_image_urls"
   ]
  },
  {
   "cell_type": "code",
   "execution_count": null,
   "metadata": {},
   "outputs": [],
   "source": [
    "print(hemisphere_data(browser))"
   ]
  }
 ]
}